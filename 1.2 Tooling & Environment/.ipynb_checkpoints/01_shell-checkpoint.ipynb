{
 "cells": [
  {
   "cell_type": "markdown",
   "metadata": {},
   "source": [
    "# Command Line\n",
    "\n",
    "---\n",
    "\n",
    "## What is the command line?\n",
    "\n",
    "The command line is an _alternative way_ to accessing the computer.\n",
    "\n",
    "For example: instead of using \"Finder\" / \"Explorer\", you can use a terminal to navigate around and open files.\n",
    "\n",
    "---\n",
    "\n",
    "# Demo\n",
    "\n",
    "The demo showed the following commands:\n",
    "\n",
    "- `ls`\n",
    "- `cd`\n",
    "- `pwd`\n",
    "- `mkdir`\n",
    "- `ssh`\n",
    "\n",
    "Find info about these commands in `CLI-Git-cheatsheet.md`\n"
   ]
  },
  {
   "cell_type": "code",
   "execution_count": 1,
   "metadata": {},
   "outputs": [
    {
     "data": {
      "text/plain": [
       "'/Users/mranger/Documents/Projects/Drive Syncs/Module 1 Programming/1.2 Tooling & Environment'"
      ]
     },
     "execution_count": 1,
     "metadata": {},
     "output_type": "execute_result"
    }
   ],
   "source": [
    "pwd"
   ]
  },
  {
   "cell_type": "code",
   "execution_count": 2,
   "metadata": {},
   "outputs": [
    {
     "name": "stdout",
     "output_type": "stream",
     "text": [
      "\u001b[31m01_shell.ipynb\u001b[m\u001b[m*        RESOURCES.txt          lecture-4-git.md\n",
      "\u001b[31m03_git.ipynb\u001b[m\u001b[m*          TODO.txt               lecture-5-github.md\n",
      "\u001b[31m04_git_advanced.ipynb\u001b[m\u001b[m* getting_started.ipynb  local_install.ipynb\n",
      "\u001b[1m\u001b[36mDay 2 Materials\u001b[m\u001b[m/       lecture-2-cli.md\n"
     ]
    }
   ],
   "source": [
    "ls"
   ]
  },
  {
   "cell_type": "code",
   "execution_count": 3,
   "metadata": {},
   "outputs": [
    {
     "name": "stdout",
     "output_type": "stream",
     "text": [
      "total 168\n",
      "-rwxr-xr-x@ 1 mranger  staff   6769 Sep 13  2019 \u001b[31m01_shell.ipynb\u001b[m\u001b[m*\n",
      "-rwxr-xr-x@ 1 mranger  staff   5245 Sep 13  2019 \u001b[31m03_git.ipynb\u001b[m\u001b[m*\n",
      "-rwxr-xr-x@ 1 mranger  staff   6680 Sep 13  2019 \u001b[31m04_git_advanced.ipynb\u001b[m\u001b[m*\n",
      "drwxr-xr-x  8 mranger  staff    256 Aug 26 17:04 \u001b[1m\u001b[36mDay 2 Materials\u001b[m\u001b[m/\n",
      "-rw-r--r--@ 1 mranger  staff     47 Aug 29 18:51 RESOURCES.txt\n",
      "-rw-r--r--@ 1 mranger  staff    142 Aug 28 17:46 TODO.txt\n",
      "-rw-r--r--@ 1 mranger  staff  24823 Aug 26 17:07 getting_started.ipynb\n",
      "-rw-r--r--@ 1 mranger  staff    377 Aug 26 17:02 lecture-2-cli.md\n",
      "-rw-r--r--@ 1 mranger  staff   1015 Aug 26 17:02 lecture-4-git.md\n",
      "-rw-r--r--@ 1 mranger  staff    512 Aug 26 17:03 lecture-5-github.md\n",
      "-rw-r--r--@ 1 mranger  staff  10928 Aug 26 17:06 local_install.ipynb\n"
     ]
    }
   ],
   "source": [
    "ls -l"
   ]
  },
  {
   "cell_type": "code",
   "execution_count": 4,
   "metadata": {},
   "outputs": [
    {
     "name": "stdout",
     "output_type": "stream",
     "text": [
      "[Errno 2] No such file or directory: 'images'\n",
      "/Users/mranger/Documents/Projects/Drive Syncs/Module 1 Programming/1.2 Tooling & Environment\n"
     ]
    }
   ],
   "source": [
    "cd images"
   ]
  },
  {
   "cell_type": "code",
   "execution_count": 5,
   "metadata": {},
   "outputs": [
    {
     "data": {
      "text/plain": [
       "'/Users/mranger/Documents/Projects/Drive Syncs/Module 1 Programming/1.2 Tooling & Environment'"
      ]
     },
     "execution_count": 5,
     "metadata": {},
     "output_type": "execute_result"
    }
   ],
   "source": [
    "pwd"
   ]
  },
  {
   "cell_type": "code",
   "execution_count": 6,
   "metadata": {},
   "outputs": [
    {
     "name": "stdout",
     "output_type": "stream",
     "text": [
      "folder.png  github_new.png\n"
     ]
    }
   ],
   "source": [
    "ls"
   ]
  },
  {
   "cell_type": "code",
   "execution_count": 7,
   "metadata": {},
   "outputs": [],
   "source": [
    "cd .."
   ]
  },
  {
   "cell_type": "code",
   "execution_count": 8,
   "metadata": {},
   "outputs": [
    {
     "data": {
      "text/plain": [
       "~/git/cookbook-2nd/chapter02_best_practices"
      ]
     },
     "execution_count": 8,
     "metadata": {},
     "output_type": "execute_result"
    }
   ],
   "source": [
    "pwd"
   ]
  },
  {
   "cell_type": "code",
   "execution_count": 9,
   "metadata": {},
   "outputs": [
    {
     "name": "stdout",
     "output_type": "stream",
     "text": [
      "total 20\n",
      "drwxr-xr-x  5 cyrille 4096 Nov 14 16:16 .\n",
      "drwxr-xr-x 93 cyrille 4096 Dec 12 10:50 ..\n",
      "drwxr-xr-x  2 cyrille 4096 Nov 14 16:16 extensions\n",
      "drwxr-xr-x  2 cyrille 4096 Nov 14 16:16 nbextensions\n",
      "drwxr-xr-x  7 cyrille 4096 Dec 12 14:18 profile_default\n"
     ]
    }
   ],
   "source": [
    "ls -la ~/.ipython"
   ]
  },
  {
   "cell_type": "code",
   "execution_count": 10,
   "metadata": {},
   "outputs": [
    {
     "name": "stdout",
     "output_type": "stream",
     "text": [
      "00_intro.md         05_workflows.md\n",
      "01_shell.md         06_tips.md\n",
      "02_py3.md           07_high_quality.md\n",
      "03_git.md           08_test.md\n",
      "04_git_advanced.md  09_debugging.md\n"
     ]
    }
   ],
   "source": [
    "# We create an empty directory:\n",
    "mkdir md_files\n",
    "# We copy all Markdown files into the new directory:\n",
    "cp *.md md_files\n",
    "# We rename the directory:\n",
    "mv md_files markdown_files\n",
    "ls markdown_files"
   ]
  },
  {
   "cell_type": "code",
   "execution_count": 11,
   "metadata": {},
   "outputs": [
    {
     "name": "stdout",
     "output_type": "stream",
     "text": [
      "rmdir: failed to remove 'markdown_files':\n",
      "    Directory not empty\n"
     ]
    }
   ],
   "source": [
    "rmdir markdown_files"
   ]
  },
  {
   "cell_type": "code",
   "execution_count": 12,
   "metadata": {},
   "outputs": [],
   "source": [
    "rm markdown_files/*"
   ]
  },
  {
   "cell_type": "code",
   "execution_count": 13,
   "metadata": {},
   "outputs": [],
   "source": [
    "rmdir markdown_files"
   ]
  },
  {
   "cell_type": "code",
   "execution_count": 14,
   "metadata": {},
   "outputs": [
    {
     "name": "stdout",
     "output_type": "stream",
     "text": [
      "# Learning the basics of the Unix shell\n",
      "\n",
      "Learning how to interact with the operating system (...)\n"
     ]
    }
   ],
   "source": [
    "# Show the first three lines of a text file:\n",
    "head -n 3 01_shell.md"
   ]
  },
  {
   "cell_type": "code",
   "execution_count": 15,
   "metadata": {},
   "outputs": [
    {
     "name": "stdout",
     "output_type": "stream",
     "text": [
      "We will also cover more general topics (...)\n"
     ]
    }
   ],
   "source": [
    "# Show the last line of a text file:\n",
    "tail -n 1 00_intro.md"
   ]
  },
  {
   "cell_type": "code",
   "execution_count": 16,
   "metadata": {},
   "outputs": [
    {
     "name": "stdout",
     "output_type": "stream",
     "text": [
      "Hello world!\n"
     ]
    }
   ],
   "source": [
    "# We display some text:\n",
    "echo \"Hello world!\""
   ]
  },
  {
   "cell_type": "code",
   "execution_count": 17,
   "metadata": {},
   "outputs": [],
   "source": [
    "# We redirect the output of a command to\n",
    "# a text file with `>`:\n",
    "echo \"Hello world!\" > myfile.txt"
   ]
  },
  {
   "cell_type": "code",
   "execution_count": 18,
   "metadata": {},
   "outputs": [
    {
     "name": "stdout",
     "output_type": "stream",
     "text": [
      "Hello world!\n"
     ]
    }
   ],
   "source": [
    "# We display the entire contents of the file:\n",
    "cat myfile.txt"
   ]
  },
  {
   "cell_type": "code",
   "execution_count": 19,
   "metadata": {},
   "outputs": [
    {
     "name": "stdout",
     "output_type": "stream",
     "text": [
      "Unix shell\n",
      "Unix shell\n",
      "Unix subsystem\n",
      "Unix shell\n",
      "(...)\n",
      "Unix shell\n",
      "Unix shell\n"
     ]
    }
   ],
   "source": [
    "grep -Eo \"Unix \\w+\" 01_shell.md"
   ]
  },
  {
   "cell_type": "code",
   "execution_count": 20,
   "metadata": {},
   "outputs": [
    {
     "name": "stdout",
     "output_type": "stream",
     "text": [
      "Unix shell\n"
     ]
    }
   ],
   "source": [
    "echo \"This is a Unix shell\" | grep -Eo \"Unix \\w+\""
   ]
  },
  {
   "cell_type": "markdown",
   "metadata": {},
   "source": [
    "# SSH\n",
    "\n",
    "The reason learning the command line is so useful is to control remote servers.\n",
    "\n",
    "This will only become useful very late in the course, but the skill will stay relevant throughout your career.\n",
    "\n",
    "See me connecting to my home server for instance"
   ]
  },
  {
   "cell_type": "code",
   "execution_count": null,
   "metadata": {},
   "outputs": [],
   "source": []
  }
 ],
 "metadata": {
  "kernelspec": {
   "display_name": "Python 3",
   "language": "python",
   "name": "python3"
  },
  "language_info": {
   "codemirror_mode": {
    "name": "ipython",
    "version": 3
   },
   "file_extension": ".py",
   "mimetype": "text/x-python",
   "name": "python",
   "nbconvert_exporter": "python",
   "pygments_lexer": "ipython3",
   "version": "3.7.6"
  }
 },
 "nbformat": 4,
 "nbformat_minor": 2
}
