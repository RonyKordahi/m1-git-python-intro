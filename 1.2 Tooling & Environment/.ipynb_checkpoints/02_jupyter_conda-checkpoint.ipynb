{
 "cells": [
  {
   "cell_type": "markdown",
   "metadata": {},
   "source": [
    "# Setting up Your Python Environment\n",
    "\n",
    "\n",
    "<a id='index-0'></a>"
   ]
  },
  {
   "cell_type": "markdown",
   "metadata": {},
   "source": [
    "### Updating Anaconda\n",
    "\n",
    "1. Open up a terminal  \n",
    "2. type `conda list`\n",
    "3. type `conda update conda`\n",
    "4. Type `conda update anaconda`\n",
    "\n",
    "\n",
    "For more information on conda,  type conda help in a terminal."
   ]
  },
  {
   "cell_type": "markdown",
   "metadata": {},
   "source": [
    "### Starting the Jupyter Notebook\n",
    "\n",
    "\n",
    "<a id='index-6'></a>\n",
    "Once you have installed Anaconda, you can start the Jupyter notebook.\n",
    "\n",
    "Either\n",
    "\n",
    "- search for Jupyter in your applications menu, or  \n",
    "- open up a terminal and type `jupyter notebook`  \n",
    "  \n",
    "  - Windows users should substitute “Anaconda command prompt” for “terminal” in the previous line.  \n",
    "  \n",
    "\n",
    "\n",
    "If you use the second option, you will see something like this\n",
    "\n",
    "<img src=\"https://s3-ap-southeast-2.amazonaws.com/python-programming.quantecon.org/_static/lecture_specific/getting_started/starting_nb.png\" style=\"width:45%;height:45%\">\n",
    "\n",
    "  \n",
    "The output tells us the notebook is running at `http://localhost:8888/`\n",
    "\n",
    "- `localhost` is the name of the local machine  \n",
    "- `8888` refers to [port number](https://en.wikipedia.org/wiki/Port_%28computer_networking%29) 8888 on your computer  \n",
    "\n",
    "\n",
    "Thus, the Jupyter kernel is listening for Python commands on port 8888 of our local machine.\n",
    "\n",
    "Hopefully, your default browser has also opened up with a web page that looks something like this\n",
    "\n",
    "<img src=\"https://s3-ap-southeast-2.amazonaws.com/python-programming.quantecon.org/_static/lecture_specific/getting_started/nb.png\" style=\"width:45%;height:45%\">\n",
    "\n",
    "  \n",
    "What you see here is called the Jupyter *dashboard*.\n",
    "\n",
    "If you look at the URL at the top, it should be `localhost:8888` or similar, matching the message above."
   ]
  },
  {
   "cell_type": "markdown",
   "metadata": {},
   "source": [
    "#### Running Cells\n",
    "\n",
    "Notice that, in the previous figure, the cell is surrounded by a green border.\n",
    "\n",
    "This means that the cell is in *edit mode*.\n",
    "\n",
    "In this mode, whatever you type will appear in the cell with the flashing cursor.\n",
    "\n",
    "When you’re ready to execute the code in a cell, hit `Shift-Enter` instead of the usual `Enter`.\n",
    "\n",
    "<img src=\"https://s3-ap-southeast-2.amazonaws.com/python-programming.quantecon.org/_static/lecture_specific/getting_started/nb3.png\" style=\"width:45%;height:45%\">\n",
    "\n",
    "  \n",
    "(Note: There are also menu and button options for running code in a cell that you can find by exploring)"
   ]
  },
  {
   "cell_type": "markdown",
   "metadata": {},
   "source": [
    "#### Modal Editing\n",
    "\n",
    "The next thing to understand about the Jupyter notebook is that it uses a *modal* editing system.\n",
    "\n",
    "This means that the effect of typing at the keyboard **depends on which mode you are in**.\n",
    "\n",
    "The two modes are\n",
    "\n",
    "1. Edit mode  \n",
    "  \n",
    "  - Indicated by a green border around one cell, plus a blinking cursor  \n",
    "  - Whatever you type appears as is in that cell  \n",
    "  \n",
    "1. Command mode  \n",
    "  \n",
    "  - The green border is replaced by a grey (or grey and blue) border  \n",
    "  - Keystrokes are interpreted as commands — for example, typing b adds a new cell below  the current one  \n",
    "  \n",
    "\n",
    "\n",
    "To switch to\n",
    "\n",
    "- command mode from edit mode, hit the `Esc` key or `Ctrl-M`  \n",
    "- edit mode from command mode, hit `Enter` or click in a cell  \n",
    "\n",
    "\n",
    "The modal behavior of the Jupyter notebook is very efficient when you get used to it."
   ]
  },
  {
   "cell_type": "markdown",
   "metadata": {},
   "source": [
    "#### Inserting Unicode (e.g., Greek Letters)\n",
    "\n",
    "Python supports [unicode](https://docs.python.org/3/howto/unicode.html), allowing the use of characters such as $ \\alpha $ and $ \\beta $ as names in your code.\n",
    "\n",
    "In a code cell, try typing `\\alpha` and then hitting the tab key on your keyboard.\n",
    "\n",
    "\n",
    "<a id='a-test-program'></a>"
   ]
  },
  {
   "cell_type": "markdown",
   "metadata": {},
   "source": [
    "### Working with the Notebook\n",
    "\n",
    "Here are a few more tips on working with Jupyter notebooks."
   ]
  },
  {
   "cell_type": "markdown",
   "metadata": {},
   "source": [
    "## Working with Python Files\n",
    "\n",
    "So far we’ve focused on executing Python code entered into a Jupyter notebook\n",
    "cell.\n",
    "\n",
    "Traditionally most Python code has been run in a different way.\n",
    "\n",
    "Code is first saved in a text file on a local machine\n",
    "\n",
    "By convention, these text files have a `.py` extension.\n",
    "\n",
    "We can create an example of such a file as follows:"
   ]
  },
  {
   "cell_type": "code",
   "execution_count": null,
   "metadata": {
    "hide-output": false
   },
   "outputs": [],
   "source": [
    "%%file foo.py\n",
    "\n",
    "print(\"foobar\")"
   ]
  },
  {
   "cell_type": "markdown",
   "metadata": {},
   "source": [
    "This writes the line `print(\"foobar\")` into a file called `foo.py` in the local directory.\n",
    "\n",
    "Here `%%file` is an example of a [cell magic](http://ipython.readthedocs.org/en/stable/interactive/magics.html#cell-magics)."
   ]
  },
  {
   "cell_type": "markdown",
   "metadata": {},
   "source": [
    "### Editing and Execution\n",
    "\n",
    "If you come across code saved in a `*.py` file, you’ll need to consider the\n",
    "following questions:\n",
    "\n",
    "1. how should you execute it?  \n",
    "1. How should you modify or edit it?  "
   ]
  },
  {
   "cell_type": "markdown",
   "metadata": {},
   "source": [
    "### Exercise\n",
    "\n",
    "If Jupyter is still running, quit by using `Ctrl-C` at the terminal where\n",
    "you started it.\n",
    "\n",
    "Now launch again, but this time using `jupyter notebook --no-browser`.\n",
    "\n",
    "This should start the kernel without launching the browser.\n",
    "\n",
    "Note also the startup message: It should give you a URL such as `http://localhost:8888` where the notebook is running.\n",
    "\n",
    "Now\n",
    "\n",
    "1. Start your browser — or open a new tab if it’s already running.  \n",
    "1. Enter the URL from above (e.g. `http://localhost:8888`) in the address bar at the top.  \n",
    "\n",
    "\n",
    "You should now be able to run a standard Jupyter notebook session.\n",
    "\n",
    "This is an alternative way to start the notebook that can also be handy.\n",
    "\n",
    "\n",
    "<a id='gs-ex2'></a>"
   ]
  },
  {
   "cell_type": "code",
   "execution_count": null,
   "metadata": {},
   "outputs": [],
   "source": []
  }
 ],
 "metadata": {
  "date": 1597540027.6713223,
  "filename": "getting_started.rst",
  "kernelspec": {
   "display_name": "Python 3",
   "language": "python",
   "name": "python3"
  },
  "language_info": {
   "codemirror_mode": {
    "name": "ipython",
    "version": 3
   },
   "file_extension": ".py",
   "mimetype": "text/x-python",
   "name": "python",
   "nbconvert_exporter": "python",
   "pygments_lexer": "ipython3",
   "version": "3.7.6"
  },
  "next_doc": {
   "link": "python_by_example",
   "title": "An Introductory Example"
  },
  "prev_doc": {
   "link": "about_py",
   "title": "About Python"
  },
  "title": "Setting up Your Python Environment"
 },
 "nbformat": 4,
 "nbformat_minor": 2
}
