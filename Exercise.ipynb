{
 "cells": [
  {
   "cell_type": "code",
   "execution_count": 1,
   "metadata": {},
   "outputs": [],
   "source": [
    "a = list(range(50))"
   ]
  },
  {
   "cell_type": "code",
   "execution_count": 6,
   "metadata": {},
   "outputs": [],
   "source": [
    "list_1 = a\n",
    "list_2 = []"
   ]
  },
  {
   "cell_type": "code",
   "execution_count": 9,
   "metadata": {},
   "outputs": [],
   "source": [
    "for i in a:\n",
    "    list_2.append(i ** 2)"
   ]
  },
  {
   "cell_type": "markdown",
   "metadata": {},
   "source": [
    "# -----------------"
   ]
  },
  {
   "cell_type": "code",
   "execution_count": 10,
   "metadata": {},
   "outputs": [
    {
     "name": "stdout",
     "output_type": "stream",
     "text": [
      "-1 is negative!\n",
      "2 is even!\n",
      "3.5 is something else\n",
      "44452 is even!\n",
      "522 is even!\n",
      "-444 is negative and even!\n"
     ]
    }
   ],
   "source": [
    "l = [-1, 2, 3.5, 44452, 522, -444]\n",
    "\n",
    "for x in l:\n",
    "    if x < 0 and x % 2 == 0:\n",
    "        print(f\"{x} is negative and even!\")\n",
    "    elif x < 0: \n",
    "        print(f\"{x} is negative!\")\n",
    "    elif x % 2 == 0: \n",
    "        print(f\"{x} is even!\")\n",
    "    else: \n",
    "        print(f\"{x} is something else\")\n"
   ]
  },
  {
   "cell_type": "code",
   "execution_count": null,
   "metadata": {},
   "outputs": [],
   "source": []
  }
 ],
 "metadata": {
  "kernelspec": {
   "display_name": "Python 3",
   "language": "python",
   "name": "python3"
  },
  "language_info": {
   "codemirror_mode": {
    "name": "ipython",
    "version": 3
   },
   "file_extension": ".py",
   "mimetype": "text/x-python",
   "name": "python",
   "nbconvert_exporter": "python",
   "pygments_lexer": "ipython3",
   "version": "3.7.6"
  }
 },
 "nbformat": 4,
 "nbformat_minor": 4
}
